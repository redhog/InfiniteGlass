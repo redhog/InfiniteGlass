{
 "cells": [
  {
   "cell_type": "code",
   "execution_count": 1,
   "metadata": {
    "pycharm": {
     "name": "#%%\n"
    }
   },
   "outputs": [
    {
     "name": "stdout",
     "output_type": "stream",
     "text": [
      "%pylab is deprecated, use %matplotlib inline and import the required libraries.\n",
      "Populating the interactive namespace from numpy and matplotlib\n"
     ]
    }
   ],
   "source": [
    "%pylab inline\n",
    "import math\n",
    "import random\n",
    "import pandas as pd\n",
    "import numpy as np\n",
    "from glass_input.cloud_packer import CloudPacker\n",
    "from glass_input.cloud_packer2 import CloudPacker2"
   ]
  },
  {
   "cell_type": "code",
   "execution_count": 7,
   "metadata": {},
   "outputs": [],
   "source": [
    "IMAGE_WIDTH = 1280\n",
    "IMAGE_HEIGHT = 720\n",
    "def generate_random_windows(number_windows = 10):\n",
    "   windows = []\n",
    "\n",
    "   for n in range(number_windows):\n",
    "      windows.append({\"window\": n,\n",
    "                      \"w\": random.randint(0, math.floor(IMAGE_WIDTH / 3)),\n",
    "                      \"h\": random.randint(0, math.floor(IMAGE_HEIGHT / 4))})\n",
    "\n",
    "   return windows"
   ]
  },
  {
   "cell_type": "code",
   "execution_count": 8,
   "metadata": {},
   "outputs": [],
   "source": [
    "myblocks3 = generate_random_windows(number_windows = 3)\n",
    "myblocks4 = generate_random_windows(number_windows = 4)\n",
    "myblocks5 = generate_random_windows(number_windows = 5)\n",
    "myblocks6 = generate_random_windows(number_windows = 6)\n",
    "myblocks7 = generate_random_windows(number_windows = 7)\n",
    "myblocks20 = generate_random_windows(number_windows = 20)\n"
   ]
  },
  {
   "cell_type": "code",
   "execution_count": 96,
   "metadata": {},
   "outputs": [
    {
     "data": {
      "text/html": [
       "<div>\n",
       "<style scoped>\n",
       "    .dataframe tbody tr th:only-of-type {\n",
       "        vertical-align: middle;\n",
       "    }\n",
       "\n",
       "    .dataframe tbody tr th {\n",
       "        vertical-align: top;\n",
       "    }\n",
       "\n",
       "    .dataframe thead th {\n",
       "        text-align: right;\n",
       "    }\n",
       "</style>\n",
       "<table border=\"1\" class=\"dataframe\">\n",
       "  <thead>\n",
       "    <tr style=\"text-align: right;\">\n",
       "      <th></th>\n",
       "      <th>w</th>\n",
       "      <th>h</th>\n",
       "      <th>area</th>\n",
       "      <th>fit</th>\n",
       "    </tr>\n",
       "    <tr>\n",
       "      <th>window</th>\n",
       "      <th></th>\n",
       "      <th></th>\n",
       "      <th></th>\n",
       "      <th></th>\n",
       "    </tr>\n",
       "  </thead>\n",
       "  <tbody>\n",
       "    <tr>\n",
       "      <th>4</th>\n",
       "      <td>370</td>\n",
       "      <td>176</td>\n",
       "      <td>65120</td>\n",
       "      <td>False</td>\n",
       "    </tr>\n",
       "    <tr>\n",
       "      <th>10</th>\n",
       "      <td>386</td>\n",
       "      <td>164</td>\n",
       "      <td>63304</td>\n",
       "      <td>False</td>\n",
       "    </tr>\n",
       "    <tr>\n",
       "      <th>17</th>\n",
       "      <td>342</td>\n",
       "      <td>177</td>\n",
       "      <td>60534</td>\n",
       "      <td>False</td>\n",
       "    </tr>\n",
       "    <tr>\n",
       "      <th>16</th>\n",
       "      <td>390</td>\n",
       "      <td>135</td>\n",
       "      <td>52650</td>\n",
       "      <td>False</td>\n",
       "    </tr>\n",
       "    <tr>\n",
       "      <th>1</th>\n",
       "      <td>414</td>\n",
       "      <td>120</td>\n",
       "      <td>49680</td>\n",
       "      <td>False</td>\n",
       "    </tr>\n",
       "    <tr>\n",
       "      <th>0</th>\n",
       "      <td>244</td>\n",
       "      <td>176</td>\n",
       "      <td>42944</td>\n",
       "      <td>False</td>\n",
       "    </tr>\n",
       "    <tr>\n",
       "      <th>3</th>\n",
       "      <td>284</td>\n",
       "      <td>150</td>\n",
       "      <td>42600</td>\n",
       "      <td>False</td>\n",
       "    </tr>\n",
       "    <tr>\n",
       "      <th>15</th>\n",
       "      <td>362</td>\n",
       "      <td>110</td>\n",
       "      <td>39820</td>\n",
       "      <td>False</td>\n",
       "    </tr>\n",
       "    <tr>\n",
       "      <th>8</th>\n",
       "      <td>254</td>\n",
       "      <td>152</td>\n",
       "      <td>38608</td>\n",
       "      <td>False</td>\n",
       "    </tr>\n",
       "    <tr>\n",
       "      <th>18</th>\n",
       "      <td>166</td>\n",
       "      <td>167</td>\n",
       "      <td>27722</td>\n",
       "      <td>False</td>\n",
       "    </tr>\n",
       "    <tr>\n",
       "      <th>6</th>\n",
       "      <td>179</td>\n",
       "      <td>153</td>\n",
       "      <td>27387</td>\n",
       "      <td>False</td>\n",
       "    </tr>\n",
       "    <tr>\n",
       "      <th>5</th>\n",
       "      <td>332</td>\n",
       "      <td>71</td>\n",
       "      <td>23572</td>\n",
       "      <td>False</td>\n",
       "    </tr>\n",
       "    <tr>\n",
       "      <th>9</th>\n",
       "      <td>292</td>\n",
       "      <td>64</td>\n",
       "      <td>18688</td>\n",
       "      <td>False</td>\n",
       "    </tr>\n",
       "    <tr>\n",
       "      <th>11</th>\n",
       "      <td>125</td>\n",
       "      <td>140</td>\n",
       "      <td>17500</td>\n",
       "      <td>False</td>\n",
       "    </tr>\n",
       "    <tr>\n",
       "      <th>7</th>\n",
       "      <td>115</td>\n",
       "      <td>82</td>\n",
       "      <td>9430</td>\n",
       "      <td>False</td>\n",
       "    </tr>\n",
       "    <tr>\n",
       "      <th>13</th>\n",
       "      <td>135</td>\n",
       "      <td>42</td>\n",
       "      <td>5670</td>\n",
       "      <td>False</td>\n",
       "    </tr>\n",
       "    <tr>\n",
       "      <th>14</th>\n",
       "      <td>290</td>\n",
       "      <td>18</td>\n",
       "      <td>5220</td>\n",
       "      <td>False</td>\n",
       "    </tr>\n",
       "    <tr>\n",
       "      <th>19</th>\n",
       "      <td>40</td>\n",
       "      <td>130</td>\n",
       "      <td>5200</td>\n",
       "      <td>False</td>\n",
       "    </tr>\n",
       "    <tr>\n",
       "      <th>12</th>\n",
       "      <td>145</td>\n",
       "      <td>31</td>\n",
       "      <td>4495</td>\n",
       "      <td>False</td>\n",
       "    </tr>\n",
       "    <tr>\n",
       "      <th>2</th>\n",
       "      <td>9</td>\n",
       "      <td>81</td>\n",
       "      <td>729</td>\n",
       "      <td>False</td>\n",
       "    </tr>\n",
       "  </tbody>\n",
       "</table>\n",
       "</div>"
      ],
      "text/plain": [
       "          w    h   area    fit\n",
       "window                        \n",
       "4       370  176  65120  False\n",
       "10      386  164  63304  False\n",
       "17      342  177  60534  False\n",
       "16      390  135  52650  False\n",
       "1       414  120  49680  False\n",
       "0       244  176  42944  False\n",
       "3       284  150  42600  False\n",
       "15      362  110  39820  False\n",
       "8       254  152  38608  False\n",
       "18      166  167  27722  False\n",
       "6       179  153  27387  False\n",
       "5       332   71  23572  False\n",
       "9       292   64  18688  False\n",
       "11      125  140  17500  False\n",
       "7       115   82   9430  False\n",
       "13      135   42   5670  False\n",
       "14      290   18   5220  False\n",
       "19       40  130   5200  False\n",
       "12      145   31   4495  False\n",
       "2         9   81    729  False"
      ]
     },
     "execution_count": 96,
     "metadata": {},
     "output_type": "execute_result"
    }
   ],
   "source": [
    "blocks = pd.DataFrame([{\"window\": b[\"window\"], \"w\": b[\"w\"], \"h\": b[\"h\"]} for b in myblocks20])\n",
    "blocks = blocks.assign(area=blocks.w * blocks.h, fit=False).sort_values(\"area\", ascending=False).set_index(\"window\")\n",
    "blocks"
   ]
  },
  {
   "cell_type": "code",
   "execution_count": 97,
   "metadata": {},
   "outputs": [
    {
     "data": {
      "text/html": [
       "<div>\n",
       "<style scoped>\n",
       "    .dataframe tbody tr th:only-of-type {\n",
       "        vertical-align: middle;\n",
       "    }\n",
       "\n",
       "    .dataframe tbody tr th {\n",
       "        vertical-align: top;\n",
       "    }\n",
       "\n",
       "    .dataframe thead th {\n",
       "        text-align: right;\n",
       "    }\n",
       "</style>\n",
       "<table border=\"1\" class=\"dataframe\">\n",
       "  <thead>\n",
       "    <tr style=\"text-align: right;\">\n",
       "      <th></th>\n",
       "      <th></th>\n",
       "      <th>r</th>\n",
       "      <th>th</th>\n",
       "      <th>x</th>\n",
       "      <th>y</th>\n",
       "    </tr>\n",
       "    <tr>\n",
       "      <th>window</th>\n",
       "      <th>corner</th>\n",
       "      <th></th>\n",
       "      <th></th>\n",
       "      <th></th>\n",
       "      <th></th>\n",
       "    </tr>\n",
       "  </thead>\n",
       "  <tbody>\n",
       "    <tr>\n",
       "      <th>4</th>\n",
       "      <th>0</th>\n",
       "      <td>NaN</td>\n",
       "      <td>NaN</td>\n",
       "      <td>NaN</td>\n",
       "      <td>NaN</td>\n",
       "    </tr>\n",
       "    <tr>\n",
       "      <th>10</th>\n",
       "      <th>0</th>\n",
       "      <td>NaN</td>\n",
       "      <td>NaN</td>\n",
       "      <td>NaN</td>\n",
       "      <td>NaN</td>\n",
       "    </tr>\n",
       "    <tr>\n",
       "      <th>17</th>\n",
       "      <th>0</th>\n",
       "      <td>NaN</td>\n",
       "      <td>NaN</td>\n",
       "      <td>NaN</td>\n",
       "      <td>NaN</td>\n",
       "    </tr>\n",
       "    <tr>\n",
       "      <th>16</th>\n",
       "      <th>0</th>\n",
       "      <td>NaN</td>\n",
       "      <td>NaN</td>\n",
       "      <td>NaN</td>\n",
       "      <td>NaN</td>\n",
       "    </tr>\n",
       "    <tr>\n",
       "      <th>1</th>\n",
       "      <th>0</th>\n",
       "      <td>NaN</td>\n",
       "      <td>NaN</td>\n",
       "      <td>NaN</td>\n",
       "      <td>NaN</td>\n",
       "    </tr>\n",
       "    <tr>\n",
       "      <th>...</th>\n",
       "      <th>...</th>\n",
       "      <td>...</td>\n",
       "      <td>...</td>\n",
       "      <td>...</td>\n",
       "      <td>...</td>\n",
       "    </tr>\n",
       "    <tr>\n",
       "      <th>13</th>\n",
       "      <th>3</th>\n",
       "      <td>NaN</td>\n",
       "      <td>NaN</td>\n",
       "      <td>NaN</td>\n",
       "      <td>NaN</td>\n",
       "    </tr>\n",
       "    <tr>\n",
       "      <th>14</th>\n",
       "      <th>3</th>\n",
       "      <td>NaN</td>\n",
       "      <td>NaN</td>\n",
       "      <td>NaN</td>\n",
       "      <td>NaN</td>\n",
       "    </tr>\n",
       "    <tr>\n",
       "      <th>19</th>\n",
       "      <th>3</th>\n",
       "      <td>NaN</td>\n",
       "      <td>NaN</td>\n",
       "      <td>NaN</td>\n",
       "      <td>NaN</td>\n",
       "    </tr>\n",
       "    <tr>\n",
       "      <th>12</th>\n",
       "      <th>3</th>\n",
       "      <td>NaN</td>\n",
       "      <td>NaN</td>\n",
       "      <td>NaN</td>\n",
       "      <td>NaN</td>\n",
       "    </tr>\n",
       "    <tr>\n",
       "      <th>2</th>\n",
       "      <th>3</th>\n",
       "      <td>NaN</td>\n",
       "      <td>NaN</td>\n",
       "      <td>NaN</td>\n",
       "      <td>NaN</td>\n",
       "    </tr>\n",
       "  </tbody>\n",
       "</table>\n",
       "<p>80 rows × 4 columns</p>\n",
       "</div>"
      ],
      "text/plain": [
       "                r  th   x   y\n",
       "window corner                \n",
       "4      0      NaN NaN NaN NaN\n",
       "10     0      NaN NaN NaN NaN\n",
       "17     0      NaN NaN NaN NaN\n",
       "16     0      NaN NaN NaN NaN\n",
       "1      0      NaN NaN NaN NaN\n",
       "...            ..  ..  ..  ..\n",
       "13     3      NaN NaN NaN NaN\n",
       "14     3      NaN NaN NaN NaN\n",
       "19     3      NaN NaN NaN NaN\n",
       "12     3      NaN NaN NaN NaN\n",
       "2      3      NaN NaN NaN NaN\n",
       "\n",
       "[80 rows x 4 columns]"
      ]
     },
     "execution_count": 97,
     "metadata": {},
     "output_type": "execute_result"
    }
   ],
   "source": [
    "corners = pd.DataFrame(index=blocks.index, columns=np.arange(4)).melt(var_name=\"corner\", ignore_index=False).reset_index().set_index([\"window\", \"corner\"])[[]].assign(r=np.nan, th=np.nan, x=np.nan, y=np.nan)\n",
    "corners"
   ]
  },
  {
   "cell_type": "code",
   "execution_count": null,
   "metadata": {},
   "outputs": [],
   "source": []
  },
  {
   "cell_type": "code",
   "execution_count": 98,
   "metadata": {},
   "outputs": [],
   "source": [
    "th = 0\n",
    "r = 0"
   ]
  },
  {
   "cell_type": "code",
   "execution_count": 99,
   "metadata": {},
   "outputs": [],
   "source": [
    "nextblockidx = blocks.index[~blocks.fit][0]\n",
    "nextblock = blocks.iloc[nextblockidx]"
   ]
  },
  {
   "cell_type": "code",
   "execution_count": 100,
   "metadata": {},
   "outputs": [],
   "source": [
    "xdir = 1\n",
    "if th > np.pi / 2 and th < 2 * np.pi / 3:\n",
    "    xdir = -1\n",
    "ydir = 1\n",
    "if th > np.pi:\n",
    "    ydir = -1\n",
    "\n",
    "corners.loc[(nextblockidx, 0), \"x\"] = np.cos(th) * r\n",
    "corners.loc[(nextblockidx, 0), \"y\"] = np.sin(th) * r\n",
    "\n",
    "corners.loc[(nextblockidx, 1), \"x\"] = corners.loc[(nextblockidx, 0), \"x\"] + xdir * nextblock[\"w\"]\n",
    "corners.loc[(nextblockidx, 1), \"y\"] = corners.loc[(nextblockidx, 0), \"y\"]\n",
    "corners.loc[(nextblockidx, 2), \"x\"] = corners.loc[(nextblockidx, 0), \"x\"] + xdir * nextblock[\"w\"]\n",
    "corners.loc[(nextblockidx, 2), \"y\"] = corners.loc[(nextblockidx, 0), \"y\"] + ydir * nextblock[\"h\"]\n",
    "corners.loc[(nextblockidx, 3), \"x\"] = corners.loc[(nextblockidx, 0), \"x\"]\n",
    "corners.loc[(nextblockidx, 3), \"y\"] = corners.loc[(nextblockidx, 0), \"y\"] + ydir * nextblock[\"h\"]\n",
    "\n",
    "for corner in range(4):\n",
    "    x = corners.loc[(nextblockidx, corner), \"x\"] \n",
    "    y = corners.loc[(nextblockidx, corner), \"y\"] \n",
    "    corners.loc[(nextblockidx, corner), \"r\"] = np.sqrt(x**2 + y**2)\n",
    "    corners.loc[(nextblockidx, corner), \"th\"]  = arctan2(y, x)\n",
    "\n",
    "blocks.loc[nextblockidx, \"min_th\"] = corners.loc[nextblockidx].th.min()\n",
    "blocks.loc[nextblockidx, \"max_th\"] = corners.loc[nextblockidx].th.max()\n",
    "blocks.loc[nextblockidx, \"min_th_r\"] = corners.loc[(nextblockidx, corners.loc[nextblockidx].th.argmin()), \"r\"]\n",
    "blocks.loc[nextblockidx, \"max_th_r\"] = corners.loc[(nextblockidx, corners.loc[nextblockidx].th.argmax()), \"r\"]\n",
    "blocks.loc[nextblockidx, \"max_r\"] = corners.loc[nextblockidx].r.max()\n",
    "blocks.loc[nextblockidx, \"max_r_th\"] = corners.loc[(nextblockidx, corners.loc[nextblockidx].r.argmax()), \"th\"]\n",
    "    \n",
    "th = corners.loc[nextblockidx, \"th\"].max()\n"
   ]
  },
  {
   "cell_type": "code",
   "execution_count": null,
   "metadata": {},
   "outputs": [],
   "source": []
  },
  {
   "cell_type": "code",
   "execution_count": 101,
   "metadata": {},
   "outputs": [
    {
     "data": {
      "text/plain": [
       "1.5707963267948966"
      ]
     },
     "execution_count": 101,
     "metadata": {},
     "output_type": "execute_result"
    }
   ],
   "source": [
    "th"
   ]
  },
  {
   "cell_type": "code",
   "execution_count": 102,
   "metadata": {},
   "outputs": [
    {
     "data": {
      "text/html": [
       "<div>\n",
       "<style scoped>\n",
       "    .dataframe tbody tr th:only-of-type {\n",
       "        vertical-align: middle;\n",
       "    }\n",
       "\n",
       "    .dataframe tbody tr th {\n",
       "        vertical-align: top;\n",
       "    }\n",
       "\n",
       "    .dataframe thead th {\n",
       "        text-align: right;\n",
       "    }\n",
       "</style>\n",
       "<table border=\"1\" class=\"dataframe\">\n",
       "  <thead>\n",
       "    <tr style=\"text-align: right;\">\n",
       "      <th></th>\n",
       "      <th>r</th>\n",
       "      <th>th</th>\n",
       "      <th>x</th>\n",
       "      <th>y</th>\n",
       "    </tr>\n",
       "    <tr>\n",
       "      <th>corner</th>\n",
       "      <th></th>\n",
       "      <th></th>\n",
       "      <th></th>\n",
       "      <th></th>\n",
       "    </tr>\n",
       "  </thead>\n",
       "  <tbody>\n",
       "    <tr>\n",
       "      <th>0</th>\n",
       "      <td>0.000000</td>\n",
       "      <td>0.000000</td>\n",
       "      <td>0.0</td>\n",
       "      <td>0.0</td>\n",
       "    </tr>\n",
       "    <tr>\n",
       "      <th>1</th>\n",
       "      <td>414.000000</td>\n",
       "      <td>0.000000</td>\n",
       "      <td>414.0</td>\n",
       "      <td>0.0</td>\n",
       "    </tr>\n",
       "    <tr>\n",
       "      <th>2</th>\n",
       "      <td>431.040601</td>\n",
       "      <td>0.282124</td>\n",
       "      <td>414.0</td>\n",
       "      <td>120.0</td>\n",
       "    </tr>\n",
       "    <tr>\n",
       "      <th>3</th>\n",
       "      <td>120.000000</td>\n",
       "      <td>1.570796</td>\n",
       "      <td>0.0</td>\n",
       "      <td>120.0</td>\n",
       "    </tr>\n",
       "  </tbody>\n",
       "</table>\n",
       "</div>"
      ],
      "text/plain": [
       "                 r        th      x      y\n",
       "corner                                    \n",
       "0         0.000000  0.000000    0.0    0.0\n",
       "1       414.000000  0.000000  414.0    0.0\n",
       "2       431.040601  0.282124  414.0  120.0\n",
       "3       120.000000  1.570796    0.0  120.0"
      ]
     },
     "execution_count": 102,
     "metadata": {},
     "output_type": "execute_result"
    }
   ],
   "source": [
    "corners.loc[nextblockidx]"
   ]
  },
  {
   "cell_type": "code",
   "execution_count": 103,
   "metadata": {},
   "outputs": [
    {
     "data": {
      "text/plain": [
       "w                  370\n",
       "h                  176\n",
       "area             65120\n",
       "fit              False\n",
       "min_th             0.0\n",
       "max_th        1.570796\n",
       "min_th_r           0.0\n",
       "max_th_r         120.0\n",
       "max_r       431.040601\n",
       "max_r_th      0.282124\n",
       "Name: 4, dtype: object"
      ]
     },
     "execution_count": 103,
     "metadata": {},
     "output_type": "execute_result"
    }
   ],
   "source": [
    "blocks.loc[nextblockidx]"
   ]
  },
  {
   "cell_type": "code",
   "execution_count": 104,
   "metadata": {},
   "outputs": [],
   "source": [
    "th = 1"
   ]
  },
  {
   "cell_type": "code",
   "execution_count": 115,
   "metadata": {},
   "outputs": [],
   "source": [
    "overlapping = (blocks.min_th < th) & (blocks.max_th > th) & ((blocks.min_th_r > r) | (blocks.max_th_r > r) | (blocks.max_r > r))"
   ]
  },
  {
   "cell_type": "code",
   "execution_count": 112,
   "metadata": {},
   "outputs": [
    {
     "data": {
      "text/plain": [
       "1.5707963267948966"
      ]
     },
     "execution_count": 112,
     "metadata": {},
     "output_type": "execute_result"
    }
   ],
   "source": [
    "corners.loc[blocks.index[overlapping]].th.max()"
   ]
  },
  {
   "cell_type": "code",
   "execution_count": 121,
   "metadata": {},
   "outputs": [
    {
     "data": {
      "text/plain": [
       "0"
      ]
     },
     "execution_count": 121,
     "metadata": {},
     "output_type": "execute_result"
    }
   ],
   "source": [
    "blocks.loc[overlapping].max_r.argmax()"
   ]
  },
  {
   "cell_type": "code",
   "execution_count": null,
   "metadata": {},
   "outputs": [],
   "source": []
  },
  {
   "cell_type": "code",
   "execution_count": null,
   "metadata": {},
   "outputs": [],
   "source": []
  },
  {
   "cell_type": "code",
   "execution_count": null,
   "metadata": {
    "pycharm": {
     "name": "#%%\n"
    }
   },
   "outputs": [],
   "source": [
    "IMAGE_WIDTH = 1280\n",
    "IMAGE_HEIGHT = 720\n",
    "MARGIN = 0.1\n",
    "\n",
    "def generate_random_windows(number_windows = 10):\n",
    "   windows = []\n",
    "\n",
    "   for n in range(number_windows):\n",
    "      windows.append({\"window\": n,\n",
    "                      \"w\": random.randint(0, math.floor(IMAGE_WIDTH / 3)),\n",
    "                      \"h\": random.randint(0, math.floor(IMAGE_HEIGHT / 4))})\n",
    "\n",
    "   return windows\n",
    "\n",
    "def cloud_packer_test(number_windows=10, view_width=IMAGE_WIDTH, view_height=IMAGE_HEIGHT, margin=MARGIN, Packer=CloudPacker):\n",
    "   cloud_packer_test_blocks(generate_random_windows(number_windows), view_width=view_width, view_height=view_height, margin=margin, Packer=Packer)\n",
    "\n",
    "def cloud_packer_test_blocks(blocks, view_width=IMAGE_WIDTH, view_height=IMAGE_HEIGHT, margin=MARGIN, Packer=CloudPacker):\n",
    "    print(f\"{blocks}\\n\")\n",
    "    packer = Packer()\n",
    "    maxw = max([shape[\"w\"] for shape in blocks])\n",
    "    maxh = max([shape[\"h\"] for shape in blocks])\n",
    "\n",
    "    blocks = packer.fit(blocks, view_width=view_width, view_height=view_height, margin=margin * maxw)\n",
    "    print(f\"packed blocks: {blocks}\\n\")\n",
    "\n",
    "    plt.figure(figsize=(16, 9))\n",
    "    ax = plt.gca()\n",
    "    minx = maxx = blocks[0][\"fit\"][\"x\"]\n",
    "    miny = maxy = blocks[0][\"fit\"][\"y\"]\n",
    "    for shape in blocks:\n",
    "      color = \"#\" + ''.join([random.choice('ABCDEF0123456789') for _ in range(6)])\n",
    "      print(f\"shape: {shape}\")\n",
    "      ax.add_patch(\n",
    "          Rectangle(\n",
    "              (shape[\"fit\"][\"x\"], shape[\"fit\"][\"y\"]),\n",
    "              shape[\"w\"], shape[\"h\"],\n",
    "              edgecolor=color, color=color, alpha=0.5))\n",
    "      if \"explanation\" in shape[\"fit\"]:\n",
    "          ax.text(shape[\"fit\"][\"x\"], shape[\"fit\"][\"y\"], shape[\"fit\"][\"explanation\"])\n",
    "      if shape[\"fit\"][\"x\"] < minx: minx = shape[\"fit\"][\"x\"]\n",
    "      if shape[\"fit\"][\"x\"] + shape[\"w\"] > maxx: maxx = shape[\"fit\"][\"x\"] + shape[\"w\"]\n",
    "      if shape[\"fit\"][\"y\"] < miny: miny = shape[\"fit\"][\"y\"]\n",
    "      if shape[\"fit\"][\"y\"] + shape[\"h\"] > maxy: maxy = shape[\"fit\"][\"y\"] + shape[\"h\"]\n",
    "\n",
    "    if hasattr(packer, \"bboxes\"):\n",
    "        for bbox in packer.bboxes:\n",
    "            color = \"#\" + ''.join([random.choice('ABCDEF0123456789') for _ in range(6)])\n",
    "            ax.add_patch(\n",
    "                Rectangle((bbox[\"min\"][\"x\"], bbox[\"min\"][\"y\"]),\n",
    "                          bbox[\"max\"][\"x\"] - bbox[\"min\"][\"x\"], bbox[\"max\"][\"y\"] - bbox[\"min\"][\"y\"],\n",
    "              edgecolor=\"black\", fill=False))\n",
    "\n",
    "    if hasattr(packer, \"bbox_aspect_ratio\"):\n",
    "        print(\"Packed aspect ratio\", packer.bbox_aspect_ratio)\n",
    "            \n",
    "    plt.ylim(miny, maxy)\n",
    "    plt.xlim(minx, maxx)\n",
    "\n",
    "    plt.show()"
   ]
  },
  {
   "cell_type": "code",
   "execution_count": 149,
   "metadata": {},
   "outputs": [],
   "source": [
    "class CloudPacker():\n",
    "   # TODO: assign a weight to each window according to their area, width, height.\n",
    "   #       These will be used to determine the order in which the windows are placed,\n",
    "   #       in accordance with the aspect ratio of the root window.\n",
    "   radius = 1.0\n",
    "   step = 10\n",
    "\n",
    "   def organic_sort(self, block):\n",
    "      return (block[\"w\"] * block[\"h\"])\n",
    "\n",
    "   def fit(self, blocks, view_width, view_height, margin=0, sorting=\"organic\"):\n",
    "      print(\"FIT\", repr([blocks, view_width, view_height]))\n",
    "      self.view_width = view_width\n",
    "      self.view_height = view_height\n",
    "      self.aspect_ratio = view_width / view_height\n",
    "      self.margin = margin # TODO: implement margin\n",
    "\n",
    "      blocks.sort(key=self.organic_sort, reverse=True)\n",
    "\n",
    "      placements = []\n",
    "      spiral = self.spiral_generator()\n",
    "\n",
    "      for position, block in enumerate(blocks):\n",
    "         window = block[\"window\"]\n",
    "         w = block[\"w\"]\n",
    "         h = block[\"h\"]\n",
    "            \n",
    "         self.radius = math.sqrt(w**2+h**2)/100\n",
    "         px, py = next(spiral)\n",
    "         dx, dy = self.find_window_center_coordinates([window, px, py, w, h])\n",
    "\n",
    "         block[\"fit\"] = {\"x\": dx, \"y\": dy}\n",
    "\n",
    "         while(position and self.is_window_intersect_view(block, placements)):\n",
    "            px, py = next(spiral)\n",
    "            dx, dy = self.find_window_center_coordinates([window, px, py, w, h])\n",
    "            block[\"fit\"] = {\"x\": dx, \"y\": dy}\n",
    "\n",
    "         placements.append(block)\n",
    "\n",
    "      return placements\n",
    "\n",
    "   def spiral_generator(self):\n",
    "      h = (self.view_width / 2)\n",
    "      k = (self.view_height / 2)\n",
    "      theta = 0\n",
    "      r = 0\n",
    "\n",
    "      while True:\n",
    "         x = h + (r * self.aspect_ratio) * math.cos(theta)\n",
    "         y = k + (r * 1 / self.aspect_ratio) * math.sin(theta)\n",
    "\n",
    "         yield (round(x), round(y))\n",
    "\n",
    "         theta += self.step\n",
    "         r += self.radius\n",
    "\n",
    "         if (theta > 360):\n",
    "            theta = 0\n",
    "\n",
    "   def is_window_intersect_view(self, window, windows):\n",
    "      for w in windows:\n",
    "         if (window[\"window\"] != w[\"window\"] and self.is_window_intersect(window, w)):\n",
    "            return True\n",
    "      return False\n",
    "\n",
    "   def is_window_intersect(self, b1, b2):\n",
    "      return (    b1[\"fit\"][\"x\"] < b2[\"fit\"][\"x\"] + b2[\"w\"]\n",
    "              and b1[\"fit\"][\"x\"] + b1[\"w\"] > b2[\"fit\"][\"x\"]\n",
    "              and b1[\"fit\"][\"y\"] < b2[\"fit\"][\"y\"] + b2[\"h\"]\n",
    "              and b1[\"fit\"][\"y\"] + b1[\"h\"] > b2[\"fit\"][\"y\"])\n",
    "\n",
    "   def find_window_center_coordinates(self, window):\n",
    "      _, x, y, w, h = window\n",
    "      return (x - (w / 2), y - (h / 2))\n"
   ]
  },
  {
   "cell_type": "code",
   "execution_count": 150,
   "metadata": {
    "pycharm": {
     "name": "#%%\n"
    }
   },
   "outputs": [
    {
     "name": "stdout",
     "output_type": "stream",
     "text": [
      "[{'window': 0, 'w': 2, 'h': 116}, {'window': 1, 'w': 275, 'h': 76}, {'window': 2, 'w': 382, 'h': 51}, {'window': 3, 'w': 294, 'h': 75}, {'window': 4, 'w': 171, 'h': 120}, {'window': 5, 'w': 295, 'h': 26}, {'window': 6, 'w': 364, 'h': 173}, {'window': 7, 'w': 322, 'h': 35}, {'window': 8, 'w': 346, 'h': 1}, {'window': 9, 'w': 186, 'h': 61}]\n",
      "\n",
      "FIT [[{'window': 0, 'w': 2, 'h': 116}, {'window': 1, 'w': 275, 'h': 76}, {'window': 2, 'w': 382, 'h': 51}, {'window': 3, 'w': 294, 'h': 75}, {'window': 4, 'w': 171, 'h': 120}, {'window': 5, 'w': 295, 'h': 26}, {'window': 6, 'w': 364, 'h': 173}, {'window': 7, 'w': 322, 'h': 35}, {'window': 8, 'w': 346, 'h': 1}, {'window': 9, 'w': 186, 'h': 61}], 1280, 720]\n",
      "packed blocks: [{'window': 6, 'w': 364, 'h': 173, 'fit': {'x': 458.0, 'y': 273.5}}, {'window': 3, 'w': 294, 'h': 75, 'fit': {'x': 823.0, 'y': 331.5}}, {'window': 1, 'w': 275, 'h': 76, 'fit': {'x': 168.5, 'y': 308.0}}, {'window': 4, 'w': 171, 'h': 120, 'fit': {'x': 270.5, 'y': 384.0}}, {'window': 2, 'w': 382, 'h': 51, 'fit': {'x': 440.0, 'y': 210.5}}, {'window': 9, 'w': 186, 'h': 61, 'fit': {'x': 846.0, 'y': 410.5}}, {'window': 7, 'w': 322, 'h': 35, 'fit': {'x': 825.0, 'y': 278.5}}, {'window': 5, 'w': 295, 'h': 26, 'fit': {'x': 519.5, 'y': 475.0}}, {'window': 8, 'w': 346, 'h': 1, 'fit': {'x': 872.0, 'y': 324.5}}, {'window': 0, 'w': 2, 'h': 116, 'fit': {'x': 451.0, 'y': 421.0}}]\n",
      "\n",
      "shape: {'window': 6, 'w': 364, 'h': 173, 'fit': {'x': 458.0, 'y': 273.5}}\n",
      "shape: {'window': 3, 'w': 294, 'h': 75, 'fit': {'x': 823.0, 'y': 331.5}}\n",
      "shape: {'window': 1, 'w': 275, 'h': 76, 'fit': {'x': 168.5, 'y': 308.0}}\n",
      "shape: {'window': 4, 'w': 171, 'h': 120, 'fit': {'x': 270.5, 'y': 384.0}}\n",
      "shape: {'window': 2, 'w': 382, 'h': 51, 'fit': {'x': 440.0, 'y': 210.5}}\n",
      "shape: {'window': 9, 'w': 186, 'h': 61, 'fit': {'x': 846.0, 'y': 410.5}}\n",
      "shape: {'window': 7, 'w': 322, 'h': 35, 'fit': {'x': 825.0, 'y': 278.5}}\n",
      "shape: {'window': 5, 'w': 295, 'h': 26, 'fit': {'x': 519.5, 'y': 475.0}}\n",
      "shape: {'window': 8, 'w': 346, 'h': 1, 'fit': {'x': 872.0, 'y': 324.5}}\n",
      "shape: {'window': 0, 'w': 2, 'h': 116, 'fit': {'x': 451.0, 'y': 421.0}}\n"
     ]
    },
    {
     "name": "stderr",
     "output_type": "stream",
     "text": [
      "/tmp/ipykernel_10760/2280919299.py:40: UserWarning: Setting the 'color' property will override the edgecolor or facecolor properties.\n",
      "  Rectangle(\n"
     ]
    },
    {
     "data": {
      "image/png": "[encoded data removed]",
      "text/plain": [
       "<Figure size 1152x648 with 1 Axes>"
      ]
     },
     "metadata": {
      "needs_background": "light"
     },
     "output_type": "display_data"
    }
   ],
   "source": [
    "cloud_packer_test(10, Packer=CloudPacker)"
   ]
  },
  {
   "cell_type": "code",
   "execution_count": 151,
   "metadata": {},
   "outputs": [
    {
     "name": "stdout",
     "output_type": "stream",
     "text": [
      "[{'w': 0.655937511920929, 'h': 0.37781252384185793, 'window': 14680070}, {'w': 0.655937511920929, 'h': 0.37781252384185793, 'window': 14680116}, {'w': 0.5278125, 'h': 0.410625, 'window': 20971652}]\n",
      "\n",
      "FIT [[{'w': 0.655937511920929, 'h': 0.37781252384185793, 'window': 14680070}, {'w': 0.655937511920929, 'h': 0.37781252384185793, 'window': 14680116}, {'w': 0.5278125, 'h': 0.410625, 'window': 20971652}], 1.0, 0.6000000238418579]\n",
      "packed blocks: [{'w': 0.655937511920929, 'h': 0.37781252384185793, 'window': 14680070, 'fit': {'x': -0.3279687559604645, 'y': -0.18890626192092896}}, {'w': 0.655937511920929, 'h': 0.37781252384185793, 'window': 14680116, 'fit': {'x': 0.6720312440395355, 'y': -0.18890626192092896}}, {'w': 0.5278125, 'h': 0.410625, 'window': 20971652, 'fit': {'x': 0.73609375, 'y': 0.7946875}}]\n",
      "\n",
      "shape: {'w': 0.655937511920929, 'h': 0.37781252384185793, 'window': 14680070, 'fit': {'x': -0.3279687559604645, 'y': -0.18890626192092896}}\n",
      "shape: {'w': 0.655937511920929, 'h': 0.37781252384185793, 'window': 14680116, 'fit': {'x': 0.6720312440395355, 'y': -0.18890626192092896}}\n",
      "shape: {'w': 0.5278125, 'h': 0.410625, 'window': 20971652, 'fit': {'x': 0.73609375, 'y': 0.7946875}}\n"
     ]
    },
    {
     "name": "stderr",
     "output_type": "stream",
     "text": [
      "/tmp/ipykernel_10760/2280919299.py:40: UserWarning: Setting the 'color' property will override the edgecolor or facecolor properties.\n",
      "  Rectangle(\n"
     ]
    },
    {
     "data": {
      "image/png": "[encoded data removed]",
      "text/plain": [
       "<Figure size 1152x648 with 1 Axes>"
      ]
     },
     "metadata": {
      "needs_background": "light"
     },
     "output_type": "display_data"
    }
   ],
   "source": [
    "cloud_packer_test_blocks([{'w': 0.655937511920929, 'h': 0.37781252384185793, 'window': 14680070},\n",
    "  {'w': 0.655937511920929, 'h': 0.37781252384185793, 'window': 14680116},\n",
    "  {'w': 0.5278125, 'h': 0.410625, 'window': 20971652}], view_width=1.0, view_height=0.6000000238418579, margin=0,\n",
    "                        Packer=CloudPacker)"
   ]
  },
  {
   "cell_type": "code",
   "execution_count": null,
   "metadata": {},
   "outputs": [],
   "source": []
  },
  {
   "cell_type": "code",
   "execution_count": null,
   "metadata": {},
   "outputs": [],
   "source": []
  },
  {
   "cell_type": "code",
   "execution_count": 89,
   "metadata": {},
   "outputs": [],
   "source": []
  },
  {
   "cell_type": "code",
   "execution_count": null,
   "metadata": {},
   "outputs": [],
   "source": []
  },
  {
   "cell_type": "code",
   "execution_count": null,
   "metadata": {},
   "outputs": [],
   "source": []
  }
 ],
 "metadata": {
  "kernelspec": {
   "display_name": "InfiniteGlass",
   "language": "python",
   "name": "infiniteglass"
  },
  "language_info": {
   "codemirror_mode": {
    "name": "ipython",
    "version": 3
   },
   "file_extension": ".py",
   "mimetype": "text/x-python",
   "name": "python",
   "nbconvert_exporter": "python",
   "pygments_lexer": "ipython3",
   "version": "3.8.0"
  }
 },
 "nbformat": 4,
 "nbformat_minor": 1
}
